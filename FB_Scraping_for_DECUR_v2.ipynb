{
 "cells": [
  {
   "cell_type": "markdown",
   "id": "764b8d94",
   "metadata": {},
   "source": [
    "# Works on first System"
   ]
  },
  {
   "cell_type": "code",
   "execution_count": 1,
   "id": "5e8c2b45",
   "metadata": {},
   "outputs": [],
   "source": [
    "from selenium import webdriver\n",
    "from selenium.webdriver.common.action_chains import ActionChains\n",
    "from selenium.webdriver.common.keys import Keys\n",
    "from selenium.webdriver.common.by import By\n",
    "from selenium.webdriver.chrome.service import Service\n",
    "from webdriver_manager.chrome import ChromeDriverManager\n",
    "from selenium.webdriver.support import expected_conditions as EC\n",
    "from selenium.webdriver.support.ui import WebDriverWait, Select\n",
    "import time\n",
    "import os\n",
    "import getpass\n",
    "from bs4 import BeautifulSoup"
   ]
  },
  {
   "cell_type": "code",
   "execution_count": 2,
   "id": "d7238ec9",
   "metadata": {},
   "outputs": [
    {
     "name": "stderr",
     "output_type": "stream",
     "text": [
      "The chromedriver version (99.0.4844.51) detected in PATH at C:\\Users\\12408\\chromedriver.exe might not be compatible with the detected chrome version (126.0.6478.127); currently, chromedriver 126.0.6478.126 is recommended for chrome 126.*, so it is advised to delete the driver in PATH and retry\n"
     ]
    },
    {
     "ename": "SessionNotCreatedException",
     "evalue": "Message: session not created: This version of ChromeDriver only supports Chrome version 99\nCurrent browser version is 126.0.6478.127 with binary path C:\\Program Files\\Google\\Chrome\\Application\\chrome.exe\nStacktrace:\nBacktrace:\n\tOrdinal0 [0x00E89943+2595139]\n\tOrdinal0 [0x00E1C9F1+2148849]\n\tOrdinal0 [0x00D14528+1066280]\n\tOrdinal0 [0x00D342C3+1196739]\n\tOrdinal0 [0x00D2FE37+1179191]\n\tOrdinal0 [0x00D2D6F1+1169137]\n\tOrdinal0 [0x00D60530+1377584]\n\tOrdinal0 [0x00D6018A+1376650]\n\tOrdinal0 [0x00D5B806+1357830]\n\tOrdinal0 [0x00D36086+1204358]\n\tOrdinal0 [0x00D36F96+1208214]\n\tGetHandleVerifier [0x0102B232+1658114]\n\tGetHandleVerifier [0x010E312C+2411516]\n\tGetHandleVerifier [0x00F1F261+560433]\n\tGetHandleVerifier [0x00F1E366+556598]\n\tOrdinal0 [0x00E2286B+2173035]\n\tOrdinal0 [0x00E275F8+2192888]\n\tOrdinal0 [0x00E276E5+2193125]\n\tOrdinal0 [0x00E311FC+2232828]\n\tBaseThreadInitThunk [0x769A7BA9+25]\n\tRtlInitializeExceptionChain [0x77BAC10B+107]\n\tRtlClearBits [0x77BAC08F+191]\n",
     "output_type": "error",
     "traceback": [
      "\u001b[1;31m---------------------------------------------------------------------------\u001b[0m",
      "\u001b[1;31mSessionNotCreatedException\u001b[0m                Traceback (most recent call last)",
      "\u001b[1;32m~\\AppData\\Local\\Temp\\ipykernel_42232\\2705028822.py\u001b[0m in \u001b[0;36m<module>\u001b[1;34m\u001b[0m\n\u001b[0;32m      9\u001b[0m \u001b[1;31m# Create a WebDriver instance\u001b[0m\u001b[1;33m\u001b[0m\u001b[1;33m\u001b[0m\u001b[1;33m\u001b[0m\u001b[0m\n\u001b[0;32m     10\u001b[0m \u001b[1;31m# driver = webdriver.Chrome(ChromeDriverManager().install(), options=options)#,service=service)\u001b[0m\u001b[1;33m\u001b[0m\u001b[1;33m\u001b[0m\u001b[1;33m\u001b[0m\u001b[0m\n\u001b[1;32m---> 11\u001b[1;33m \u001b[0mdriver\u001b[0m \u001b[1;33m=\u001b[0m \u001b[0mwebdriver\u001b[0m\u001b[1;33m.\u001b[0m\u001b[0mChrome\u001b[0m\u001b[1;33m(\u001b[0m\u001b[0mservice\u001b[0m\u001b[1;33m=\u001b[0m\u001b[0mservice\u001b[0m\u001b[1;33m,\u001b[0m \u001b[0moptions\u001b[0m\u001b[1;33m=\u001b[0m\u001b[0moptions\u001b[0m\u001b[1;33m)\u001b[0m\u001b[1;33m\u001b[0m\u001b[1;33m\u001b[0m\u001b[0m\n\u001b[0m",
      "\u001b[1;32m~\\anaconda3\\lib\\site-packages\\selenium\\webdriver\\chrome\\webdriver.py\u001b[0m in \u001b[0;36m__init__\u001b[1;34m(self, options, service, keep_alive)\u001b[0m\n\u001b[0;32m     43\u001b[0m         \u001b[0moptions\u001b[0m \u001b[1;33m=\u001b[0m \u001b[0moptions\u001b[0m \u001b[1;32mif\u001b[0m \u001b[0moptions\u001b[0m \u001b[1;32melse\u001b[0m \u001b[0mOptions\u001b[0m\u001b[1;33m(\u001b[0m\u001b[1;33m)\u001b[0m\u001b[1;33m\u001b[0m\u001b[1;33m\u001b[0m\u001b[0m\n\u001b[0;32m     44\u001b[0m \u001b[1;33m\u001b[0m\u001b[0m\n\u001b[1;32m---> 45\u001b[1;33m         super().__init__(\n\u001b[0m\u001b[0;32m     46\u001b[0m             \u001b[0mbrowser_name\u001b[0m\u001b[1;33m=\u001b[0m\u001b[0mDesiredCapabilities\u001b[0m\u001b[1;33m.\u001b[0m\u001b[0mCHROME\u001b[0m\u001b[1;33m[\u001b[0m\u001b[1;34m\"browserName\"\u001b[0m\u001b[1;33m]\u001b[0m\u001b[1;33m,\u001b[0m\u001b[1;33m\u001b[0m\u001b[1;33m\u001b[0m\u001b[0m\n\u001b[0;32m     47\u001b[0m             \u001b[0mvendor_prefix\u001b[0m\u001b[1;33m=\u001b[0m\u001b[1;34m\"goog\"\u001b[0m\u001b[1;33m,\u001b[0m\u001b[1;33m\u001b[0m\u001b[1;33m\u001b[0m\u001b[0m\n",
      "\u001b[1;32m~\\anaconda3\\lib\\site-packages\\selenium\\webdriver\\chromium\\webdriver.py\u001b[0m in \u001b[0;36m__init__\u001b[1;34m(self, browser_name, vendor_prefix, options, service, keep_alive)\u001b[0m\n\u001b[0;32m     59\u001b[0m \u001b[1;33m\u001b[0m\u001b[0m\n\u001b[0;32m     60\u001b[0m         \u001b[1;32mtry\u001b[0m\u001b[1;33m:\u001b[0m\u001b[1;33m\u001b[0m\u001b[1;33m\u001b[0m\u001b[0m\n\u001b[1;32m---> 61\u001b[1;33m             \u001b[0msuper\u001b[0m\u001b[1;33m(\u001b[0m\u001b[1;33m)\u001b[0m\u001b[1;33m.\u001b[0m\u001b[0m__init__\u001b[0m\u001b[1;33m(\u001b[0m\u001b[0mcommand_executor\u001b[0m\u001b[1;33m=\u001b[0m\u001b[0mexecutor\u001b[0m\u001b[1;33m,\u001b[0m \u001b[0moptions\u001b[0m\u001b[1;33m=\u001b[0m\u001b[0moptions\u001b[0m\u001b[1;33m)\u001b[0m\u001b[1;33m\u001b[0m\u001b[1;33m\u001b[0m\u001b[0m\n\u001b[0m\u001b[0;32m     62\u001b[0m         \u001b[1;32mexcept\u001b[0m \u001b[0mException\u001b[0m\u001b[1;33m:\u001b[0m\u001b[1;33m\u001b[0m\u001b[1;33m\u001b[0m\u001b[0m\n\u001b[0;32m     63\u001b[0m             \u001b[0mself\u001b[0m\u001b[1;33m.\u001b[0m\u001b[0mquit\u001b[0m\u001b[1;33m(\u001b[0m\u001b[1;33m)\u001b[0m\u001b[1;33m\u001b[0m\u001b[1;33m\u001b[0m\u001b[0m\n",
      "\u001b[1;32m~\\anaconda3\\lib\\site-packages\\selenium\\webdriver\\remote\\webdriver.py\u001b[0m in \u001b[0;36m__init__\u001b[1;34m(self, command_executor, keep_alive, file_detector, options)\u001b[0m\n\u001b[0;32m    207\u001b[0m         \u001b[0mself\u001b[0m\u001b[1;33m.\u001b[0m\u001b[0m_authenticator_id\u001b[0m \u001b[1;33m=\u001b[0m \u001b[1;32mNone\u001b[0m\u001b[1;33m\u001b[0m\u001b[1;33m\u001b[0m\u001b[0m\n\u001b[0;32m    208\u001b[0m         \u001b[0mself\u001b[0m\u001b[1;33m.\u001b[0m\u001b[0mstart_client\u001b[0m\u001b[1;33m(\u001b[0m\u001b[1;33m)\u001b[0m\u001b[1;33m\u001b[0m\u001b[1;33m\u001b[0m\u001b[0m\n\u001b[1;32m--> 209\u001b[1;33m         \u001b[0mself\u001b[0m\u001b[1;33m.\u001b[0m\u001b[0mstart_session\u001b[0m\u001b[1;33m(\u001b[0m\u001b[0mcapabilities\u001b[0m\u001b[1;33m)\u001b[0m\u001b[1;33m\u001b[0m\u001b[1;33m\u001b[0m\u001b[0m\n\u001b[0m\u001b[0;32m    210\u001b[0m \u001b[1;33m\u001b[0m\u001b[0m\n\u001b[0;32m    211\u001b[0m     \u001b[1;32mdef\u001b[0m \u001b[0m__repr__\u001b[0m\u001b[1;33m(\u001b[0m\u001b[0mself\u001b[0m\u001b[1;33m)\u001b[0m\u001b[1;33m:\u001b[0m\u001b[1;33m\u001b[0m\u001b[1;33m\u001b[0m\u001b[0m\n",
      "\u001b[1;32m~\\anaconda3\\lib\\site-packages\\selenium\\webdriver\\remote\\webdriver.py\u001b[0m in \u001b[0;36mstart_session\u001b[1;34m(self, capabilities)\u001b[0m\n\u001b[0;32m    291\u001b[0m \u001b[1;33m\u001b[0m\u001b[0m\n\u001b[0;32m    292\u001b[0m         \u001b[0mcaps\u001b[0m \u001b[1;33m=\u001b[0m \u001b[0m_create_caps\u001b[0m\u001b[1;33m(\u001b[0m\u001b[0mcapabilities\u001b[0m\u001b[1;33m)\u001b[0m\u001b[1;33m\u001b[0m\u001b[1;33m\u001b[0m\u001b[0m\n\u001b[1;32m--> 293\u001b[1;33m         \u001b[0mresponse\u001b[0m \u001b[1;33m=\u001b[0m \u001b[0mself\u001b[0m\u001b[1;33m.\u001b[0m\u001b[0mexecute\u001b[0m\u001b[1;33m(\u001b[0m\u001b[0mCommand\u001b[0m\u001b[1;33m.\u001b[0m\u001b[0mNEW_SESSION\u001b[0m\u001b[1;33m,\u001b[0m \u001b[0mcaps\u001b[0m\u001b[1;33m)\u001b[0m\u001b[1;33m[\u001b[0m\u001b[1;34m\"value\"\u001b[0m\u001b[1;33m]\u001b[0m\u001b[1;33m\u001b[0m\u001b[1;33m\u001b[0m\u001b[0m\n\u001b[0m\u001b[0;32m    294\u001b[0m         \u001b[0mself\u001b[0m\u001b[1;33m.\u001b[0m\u001b[0msession_id\u001b[0m \u001b[1;33m=\u001b[0m \u001b[0mresponse\u001b[0m\u001b[1;33m.\u001b[0m\u001b[0mget\u001b[0m\u001b[1;33m(\u001b[0m\u001b[1;34m\"sessionId\"\u001b[0m\u001b[1;33m)\u001b[0m\u001b[1;33m\u001b[0m\u001b[1;33m\u001b[0m\u001b[0m\n\u001b[0;32m    295\u001b[0m         \u001b[0mself\u001b[0m\u001b[1;33m.\u001b[0m\u001b[0mcaps\u001b[0m \u001b[1;33m=\u001b[0m \u001b[0mresponse\u001b[0m\u001b[1;33m.\u001b[0m\u001b[0mget\u001b[0m\u001b[1;33m(\u001b[0m\u001b[1;34m\"capabilities\"\u001b[0m\u001b[1;33m)\u001b[0m\u001b[1;33m\u001b[0m\u001b[1;33m\u001b[0m\u001b[0m\n",
      "\u001b[1;32m~\\anaconda3\\lib\\site-packages\\selenium\\webdriver\\remote\\webdriver.py\u001b[0m in \u001b[0;36mexecute\u001b[1;34m(self, driver_command, params)\u001b[0m\n\u001b[0;32m    346\u001b[0m         \u001b[0mresponse\u001b[0m \u001b[1;33m=\u001b[0m \u001b[0mself\u001b[0m\u001b[1;33m.\u001b[0m\u001b[0mcommand_executor\u001b[0m\u001b[1;33m.\u001b[0m\u001b[0mexecute\u001b[0m\u001b[1;33m(\u001b[0m\u001b[0mdriver_command\u001b[0m\u001b[1;33m,\u001b[0m \u001b[0mparams\u001b[0m\u001b[1;33m)\u001b[0m\u001b[1;33m\u001b[0m\u001b[1;33m\u001b[0m\u001b[0m\n\u001b[0;32m    347\u001b[0m         \u001b[1;32mif\u001b[0m \u001b[0mresponse\u001b[0m\u001b[1;33m:\u001b[0m\u001b[1;33m\u001b[0m\u001b[1;33m\u001b[0m\u001b[0m\n\u001b[1;32m--> 348\u001b[1;33m             \u001b[0mself\u001b[0m\u001b[1;33m.\u001b[0m\u001b[0merror_handler\u001b[0m\u001b[1;33m.\u001b[0m\u001b[0mcheck_response\u001b[0m\u001b[1;33m(\u001b[0m\u001b[0mresponse\u001b[0m\u001b[1;33m)\u001b[0m\u001b[1;33m\u001b[0m\u001b[1;33m\u001b[0m\u001b[0m\n\u001b[0m\u001b[0;32m    349\u001b[0m             \u001b[0mresponse\u001b[0m\u001b[1;33m[\u001b[0m\u001b[1;34m\"value\"\u001b[0m\u001b[1;33m]\u001b[0m \u001b[1;33m=\u001b[0m \u001b[0mself\u001b[0m\u001b[1;33m.\u001b[0m\u001b[0m_unwrap_value\u001b[0m\u001b[1;33m(\u001b[0m\u001b[0mresponse\u001b[0m\u001b[1;33m.\u001b[0m\u001b[0mget\u001b[0m\u001b[1;33m(\u001b[0m\u001b[1;34m\"value\"\u001b[0m\u001b[1;33m,\u001b[0m \u001b[1;32mNone\u001b[0m\u001b[1;33m)\u001b[0m\u001b[1;33m)\u001b[0m\u001b[1;33m\u001b[0m\u001b[1;33m\u001b[0m\u001b[0m\n\u001b[0;32m    350\u001b[0m             \u001b[1;32mreturn\u001b[0m \u001b[0mresponse\u001b[0m\u001b[1;33m\u001b[0m\u001b[1;33m\u001b[0m\u001b[0m\n",
      "\u001b[1;32m~\\anaconda3\\lib\\site-packages\\selenium\\webdriver\\remote\\errorhandler.py\u001b[0m in \u001b[0;36mcheck_response\u001b[1;34m(self, response)\u001b[0m\n\u001b[0;32m    227\u001b[0m                 \u001b[0malert_text\u001b[0m \u001b[1;33m=\u001b[0m \u001b[0mvalue\u001b[0m\u001b[1;33m[\u001b[0m\u001b[1;34m\"alert\"\u001b[0m\u001b[1;33m]\u001b[0m\u001b[1;33m.\u001b[0m\u001b[0mget\u001b[0m\u001b[1;33m(\u001b[0m\u001b[1;34m\"text\"\u001b[0m\u001b[1;33m)\u001b[0m\u001b[1;33m\u001b[0m\u001b[1;33m\u001b[0m\u001b[0m\n\u001b[0;32m    228\u001b[0m             \u001b[1;32mraise\u001b[0m \u001b[0mexception_class\u001b[0m\u001b[1;33m(\u001b[0m\u001b[0mmessage\u001b[0m\u001b[1;33m,\u001b[0m \u001b[0mscreen\u001b[0m\u001b[1;33m,\u001b[0m \u001b[0mstacktrace\u001b[0m\u001b[1;33m,\u001b[0m \u001b[0malert_text\u001b[0m\u001b[1;33m)\u001b[0m  \u001b[1;31m# type: ignore[call-arg]  # mypy is not smart enough here\u001b[0m\u001b[1;33m\u001b[0m\u001b[1;33m\u001b[0m\u001b[0m\n\u001b[1;32m--> 229\u001b[1;33m         \u001b[1;32mraise\u001b[0m \u001b[0mexception_class\u001b[0m\u001b[1;33m(\u001b[0m\u001b[0mmessage\u001b[0m\u001b[1;33m,\u001b[0m \u001b[0mscreen\u001b[0m\u001b[1;33m,\u001b[0m \u001b[0mstacktrace\u001b[0m\u001b[1;33m)\u001b[0m\u001b[1;33m\u001b[0m\u001b[1;33m\u001b[0m\u001b[0m\n\u001b[0m",
      "\u001b[1;31mSessionNotCreatedException\u001b[0m: Message: session not created: This version of ChromeDriver only supports Chrome version 99\nCurrent browser version is 126.0.6478.127 with binary path C:\\Program Files\\Google\\Chrome\\Application\\chrome.exe\nStacktrace:\nBacktrace:\n\tOrdinal0 [0x00E89943+2595139]\n\tOrdinal0 [0x00E1C9F1+2148849]\n\tOrdinal0 [0x00D14528+1066280]\n\tOrdinal0 [0x00D342C3+1196739]\n\tOrdinal0 [0x00D2FE37+1179191]\n\tOrdinal0 [0x00D2D6F1+1169137]\n\tOrdinal0 [0x00D60530+1377584]\n\tOrdinal0 [0x00D6018A+1376650]\n\tOrdinal0 [0x00D5B806+1357830]\n\tOrdinal0 [0x00D36086+1204358]\n\tOrdinal0 [0x00D36F96+1208214]\n\tGetHandleVerifier [0x0102B232+1658114]\n\tGetHandleVerifier [0x010E312C+2411516]\n\tGetHandleVerifier [0x00F1F261+560433]\n\tGetHandleVerifier [0x00F1E366+556598]\n\tOrdinal0 [0x00E2286B+2173035]\n\tOrdinal0 [0x00E275F8+2192888]\n\tOrdinal0 [0x00E276E5+2193125]\n\tOrdinal0 [0x00E311FC+2232828]\n\tBaseThreadInitThunk [0x769A7BA9+25]\n\tRtlInitializeExceptionChain [0x77BAC10B+107]\n\tRtlClearBits [0x77BAC08F+191]\n"
     ]
    }
   ],
   "source": [
    "# Kill any existing Chrome instances to avoid conflicts\n",
    "os.system(\"taskkill /im chrome.exe /f\")\n",
    "user = getpass.getuser() # Fetch current user's name\n",
    "service = Service() # Set up ChromeDriver service\n",
    "options = webdriver.ChromeOptions() # Define Chrome options\n",
    "options.add_argument(f\"--user-data-dir=C:\\\\Users\\\\{user}\\\\AppData\\\\Local\\\\Google\\\\Chrome\\\\User Data\")\n",
    "options.add_argument(\"--profile-directory=Default\")\n",
    "\n",
    "# Create a WebDriver instance\n",
    "# driver = webdriver.Chrome(ChromeDriverManager().install(), options=options)#,service=service)\n",
    "driver = webdriver.Chrome(service=service, options=options)\n"
   ]
  },
  {
   "cell_type": "code",
   "execution_count": 4,
   "id": "6cfd0e1f",
   "metadata": {},
   "outputs": [
    {
     "ename": "NameError",
     "evalue": "name 'driver' is not defined",
     "output_type": "error",
     "traceback": [
      "\u001b[1;31m---------------------------------------------------------------------------\u001b[0m",
      "\u001b[1;31mNameError\u001b[0m                                 Traceback (most recent call last)",
      "\u001b[1;32m~\\AppData\\Local\\Temp\\ipykernel_42232\\3343829357.py\u001b[0m in \u001b[0;36m<module>\u001b[1;34m\u001b[0m\n\u001b[0;32m      2\u001b[0m \u001b[0mSEARCH_TERM_YEAR\u001b[0m \u001b[1;33m=\u001b[0m \u001b[1;34m\"2020\"\u001b[0m\u001b[1;33m\u001b[0m\u001b[1;33m\u001b[0m\u001b[0m\n\u001b[0;32m      3\u001b[0m \u001b[1;33m\u001b[0m\u001b[0m\n\u001b[1;32m----> 4\u001b[1;33m \u001b[0mdriver\u001b[0m\u001b[1;33m.\u001b[0m\u001b[0mget\u001b[0m\u001b[1;33m(\u001b[0m\u001b[1;34m\"https://www.facebook.com/mohwpr\"\u001b[0m\u001b[1;33m)\u001b[0m\u001b[1;33m\u001b[0m\u001b[1;33m\u001b[0m\u001b[0m\n\u001b[0m\u001b[0;32m      5\u001b[0m \u001b[0mtime\u001b[0m\u001b[1;33m.\u001b[0m\u001b[0msleep\u001b[0m\u001b[1;33m(\u001b[0m\u001b[1;36m2\u001b[0m\u001b[1;33m)\u001b[0m\u001b[1;33m\u001b[0m\u001b[1;33m\u001b[0m\u001b[0m\n\u001b[0;32m      6\u001b[0m \u001b[1;31m# get page name\u001b[0m\u001b[1;33m\u001b[0m\u001b[1;33m\u001b[0m\u001b[1;33m\u001b[0m\u001b[0m\n",
      "\u001b[1;31mNameError\u001b[0m: name 'driver' is not defined"
     ]
    }
   ],
   "source": [
    "SEARCH_TERM = \"코로나\" #(covid)\n",
    "SEARCH_TERM_YEAR = \"2020\"\n",
    "\n",
    "driver.get(\"https://www.facebook.com/mohwpr\")\n",
    "time.sleep(2)\n",
    "# get page name\n",
    "page_title = driver.find_element(By.TAG_NAME, \"h1\").text\n",
    "\n",
    "# Find the 'more options' button by its unique identifier\n",
    "more_options_button = driver.find_element(By.XPATH, \"//div[@role='button'][@aria-label='See Options']\")\n",
    "more_options_button.click()\n",
    "\n",
    "time.sleep(2)  # Wait a bit for the menu to appear\n",
    "\n",
    "# Now, to click on the 'Search' option within the menu, you would locate it similarly\n",
    "# This assumes 'Search' is a visible text option within the opened menu\n",
    "search_option = driver.find_element(By.XPATH, \"//span[text()='Search']\")\n",
    "search_option.click()\n",
    "time.sleep(3) \n",
    "\n",
    "# After clicking the search option button...\n",
    "# Use WebDriverWait to wait for the input to be clickable\n",
    "wait = WebDriverWait(driver, 10)\n",
    "search_input = wait.until(EC.element_to_be_clickable((By.XPATH, f'//input[@placeholder=\"Search in {page_title.strip()}\\'s posts, photos and tags\"]')))\n",
    "\n",
    "# Now send the keys to the search input\n",
    "search_input.send_keys(SEARCH_TERM)\n",
    "search_input.send_keys(Keys.ENTER)\n",
    "time.sleep(3) \n",
    "\n",
    "# Wait for the filter options to be available after the search\n",
    "date_filter_dropdown = WebDriverWait(driver, 10).until(\n",
    "    EC.visibility_of_element_located((By.XPATH, \"//div[@role='combobox'][@aria-label='Filter by Date posted']\"))\n",
    ")\n",
    "# Click the combobox to display the options\n",
    "date_filter_dropdown.click()\n",
    "\n",
    "# Wait for the dropdown options to be visible\n",
    "option_xpath = f\"//span[text()='{SEARCH_TERM_YEAR.strip()}']\"\n",
    "date_option = WebDriverWait(driver, 10).until(\n",
    "    EC.element_to_be_clickable((By.XPATH, option_xpath))\n",
    ")\n",
    "\n",
    "# Click the desired date filter option\n",
    "date_option.click()\n",
    "\n",
    "time.sleep(5) "
   ]
  },
  {
   "cell_type": "code",
   "execution_count": 5,
   "id": "d2557678",
   "metadata": {
    "scrolled": true
   },
   "outputs": [
    {
     "ename": "NameError",
     "evalue": "name 'driver' is not defined",
     "output_type": "error",
     "traceback": [
      "\u001b[1;31m---------------------------------------------------------------------------\u001b[0m",
      "\u001b[1;31mNameError\u001b[0m                                 Traceback (most recent call last)",
      "\u001b[1;32m~\\AppData\\Local\\Temp\\ipykernel_42232\\532553988.py\u001b[0m in \u001b[0;36m<module>\u001b[1;34m\u001b[0m\n\u001b[0;32m     14\u001b[0m \u001b[1;33m\u001b[0m\u001b[0m\n\u001b[0;32m     15\u001b[0m \u001b[1;33m\u001b[0m\u001b[0m\n\u001b[1;32m---> 16\u001b[1;33m \u001b[0mlast_height\u001b[0m \u001b[1;33m=\u001b[0m \u001b[0mdriver\u001b[0m\u001b[1;33m.\u001b[0m\u001b[0mexecute_script\u001b[0m\u001b[1;33m(\u001b[0m\u001b[1;34m\"return document.body.scrollHeight\"\u001b[0m\u001b[1;33m)\u001b[0m\u001b[1;33m\u001b[0m\u001b[1;33m\u001b[0m\u001b[0m\n\u001b[0m\u001b[0;32m     17\u001b[0m \u001b[1;33m\u001b[0m\u001b[0m\n\u001b[0;32m     18\u001b[0m \u001b[0mpost_content_recorded\u001b[0m \u001b[1;33m=\u001b[0m \u001b[1;33m[\u001b[0m\u001b[1;33m]\u001b[0m\u001b[1;33m\u001b[0m\u001b[1;33m\u001b[0m\u001b[0m\n",
      "\u001b[1;31mNameError\u001b[0m: name 'driver' is not defined"
     ]
    }
   ],
   "source": [
    "# Function to click 'See more'\n",
    "def expand_see_more(driver):\n",
    "    try:\n",
    "        while True:\n",
    "            see_more = driver.find_elements(By.XPATH, \"//div[@role='button' and text()='See more']\")\n",
    "            if not see_more:\n",
    "                break\n",
    "            for button in see_more:\n",
    "                driver.execute_script(\"arguments[0].scrollIntoView();\", button)\n",
    "                driver.execute_script(\"arguments[0].click();\", button)\n",
    "                time.sleep(1)\n",
    "    except Exception as e:\n",
    "        print(\"Error expanding 'See more':\", e)\n",
    "\n",
    "\n",
    "last_height = driver.execute_script(\"return document.body.scrollHeight\")\n",
    "\n",
    "post_content_recorded = []\n",
    "results = []\n",
    "# Scroll for 600 seconds\n",
    "start_time = time.time()\n",
    "end_time = start_time + 120\n",
    "while time.time() < end_time:\n",
    "    expand_see_more(driver)  # Expand all 'See more' in the current view\n",
    "    # Extract post texts\n",
    "    soup = BeautifulSoup(driver.page_source, \"html.parser\")\n",
    "    posts = soup.find_all(\"div\", class_=\"x1iorvi4 x1pi30zi x1l90r2v x1swvt13\")\n",
    "\n",
    "    for post in posts:\n",
    "        post_and_comments = {}\n",
    "        post_content = post.text\n",
    "        if \"… See more\" not in post_content and post_content not in post_content_recorded:\n",
    "            post_and_comments[\"post\"] = post_content\n",
    "            post_content_recorded.append(post_content)\n",
    "            results.append(post_and_comments)\n",
    "\n",
    "    \n",
    "    # Scroll down\n",
    "    driver.execute_script(\"window.scrollTo(0, document.body.scrollHeight);\")\n",
    "    time.sleep(5)\n",
    "\n",
    "    # Check if the end of the page was reached\n",
    "    new_height = driver.execute_script(\"return document.body.scrollHeight\")\n",
    "    if new_height == last_height:\n",
    "        break\n",
    "    last_height = new_height       \n",
    "    \n"
   ]
  },
  {
   "cell_type": "code",
   "execution_count": 3,
   "id": "7e2bd69d",
   "metadata": {},
   "outputs": [
    {
     "ename": "NameError",
     "evalue": "name 'results' is not defined",
     "output_type": "error",
     "traceback": [
      "\u001b[1;31m---------------------------------------------------------------------------\u001b[0m",
      "\u001b[1;31mNameError\u001b[0m                                 Traceback (most recent call last)",
      "\u001b[1;32m~\\AppData\\Local\\Temp\\ipykernel_42232\\962467392.py\u001b[0m in \u001b[0;36m<module>\u001b[1;34m\u001b[0m\n\u001b[1;32m----> 1\u001b[1;33m \u001b[0mresults\u001b[0m\u001b[1;33m\u001b[0m\u001b[1;33m\u001b[0m\u001b[0m\n\u001b[0m",
      "\u001b[1;31mNameError\u001b[0m: name 'results' is not defined"
     ]
    }
   ],
   "source": [
    "results"
   ]
  },
  {
   "cell_type": "code",
   "execution_count": 59,
   "id": "b551716f",
   "metadata": {},
   "outputs": [],
   "source": [
    "driver.quit()"
   ]
  },
  {
   "cell_type": "code",
   "execution_count": null,
   "id": "b1748082",
   "metadata": {},
   "outputs": [],
   "source": []
  },
  {
   "cell_type": "code",
   "execution_count": null,
   "id": "e3386f3d",
   "metadata": {},
   "outputs": [],
   "source": []
  },
  {
   "cell_type": "code",
   "execution_count": null,
   "id": "bcf22e78",
   "metadata": {},
   "outputs": [],
   "source": []
  },
  {
   "cell_type": "code",
   "execution_count": null,
   "id": "c5145c04",
   "metadata": {},
   "outputs": [],
   "source": []
  },
  {
   "cell_type": "code",
   "execution_count": null,
   "id": "bc18e175",
   "metadata": {},
   "outputs": [],
   "source": []
  },
  {
   "cell_type": "code",
   "execution_count": null,
   "id": "51e5393d",
   "metadata": {},
   "outputs": [],
   "source": []
  },
  {
   "cell_type": "code",
   "execution_count": null,
   "id": "90211cc4",
   "metadata": {},
   "outputs": [],
   "source": []
  },
  {
   "cell_type": "markdown",
   "id": "02ce7765",
   "metadata": {},
   "source": [
    "# Works on second System"
   ]
  },
  {
   "cell_type": "code",
   "execution_count": 1,
   "id": "735b305c-4add-45e6-b388-63ba3b6a63a0",
   "metadata": {},
   "outputs": [],
   "source": [
    "from selenium import webdriver\n",
    "from selenium.webdriver.common.action_chains import ActionChains\n",
    "from selenium.webdriver.common.keys import Keys\n",
    "from selenium.webdriver.common.by import By\n",
    "from selenium.webdriver.chrome.service import Service\n",
    "from webdriver_manager.chrome import ChromeDriverManager\n",
    "from selenium.webdriver.support import expected_conditions as EC\n",
    "from selenium.webdriver.support.ui import WebDriverWait, Select\n",
    "import time\n",
    "import os\n",
    "import getpass\n",
    "from bs4 import BeautifulSoup"
   ]
  },
  {
   "cell_type": "code",
   "execution_count": 47,
   "id": "4a4dabf1-4239-44af-8f28-451a925d23e2",
   "metadata": {},
   "outputs": [],
   "source": [
    "# Setup WebDriver\n",
    "# Kill any existing Chrome instances to avoid conflicts\n",
    "os.system(\"taskkill /im chrome.exe /f\")\n",
    "user = getpass.getuser() # Fetch current user's name\n",
    "service = Service() # Set up ChromeDriver service\n",
    "options = webdriver.ChromeOptions() # Define Chrome options\n",
    "options.add_argument(f\"--user-data-dir=C:\\\\Users\\\\{user}\\\\AppData\\\\Local\\\\Google\\\\Chrome\\\\User Data\")\n",
    "options.add_argument(\"--profile-directory=Default\")\n",
    "\n",
    "# Create a WebDriver instance\n",
    "# driver = webdriver.Chrome(service=Service(ChromeDriverManager().install()))\n",
    "driver = webdriver.Chrome(service=service, options=options) # comment this if it raises error and uncomment the line above\n",
    "\n",
    "SEARCH_TERM = \"코로나\" #(covid)\n",
    "SEARCH_TERM_YEAR = \"2020\"\n",
    "\n",
    "\n",
    "driver.get(\"https://www.facebook.com/mohwpr\")\n",
    "time.sleep(10)\n",
    "\n",
    "from selenium.webdriver.common.action_chains import ActionChains\n",
    "\n",
    "# Create an instance of ActionChains\n",
    "actions = ActionChains(driver)\n",
    "\n",
    "# Move to a location on the page and click (e.g., at (10, 10) coordinates)\n",
    "actions.move_by_offset(10, 10).click().perform()\n",
    "time.sleep(3)  \n",
    "\n",
    "# get page name\n",
    "page_title = driver.find_element(By.TAG_NAME, \"h1\").text\n",
    "\n",
    "# Find the 'more options' button by its unique identifier\n",
    "more_options_button = driver.find_element(By.XPATH, \"//div[@role='button'][@aria-label='See options']\")\n",
    "more_options_button.click()\n",
    "\n",
    "time.sleep(2)  # Wait a bit for the menu to appear\n",
    "\n",
    "# Now, to click on the 'Search' option within the menu, you would locate it similarly\n",
    "# This assumes 'Search' is a visible text option within the opened menu\n",
    "search_option = driver.find_element(By.XPATH, \"//span[text()='Search']\")\n",
    "search_option.click()\n",
    "time.sleep(3) \n",
    "\n",
    "# After clicking the search option button...\n",
    "# Use WebDriverWait to wait for the input to be clickable\n",
    "wait = WebDriverWait(driver, 10)\n",
    "search_input = wait.until(EC.element_to_be_clickable((By.XPATH, f'//input[@placeholder=\"Search in {page_title.strip()}\\'s posts, photos, and tags\"]')))\n",
    "\n",
    "# Now send the keys to the search input\n",
    "search_input.send_keys(SEARCH_TERM)\n",
    "search_input.send_keys(Keys.ENTER)\n",
    "time.sleep(3) \n",
    "\n",
    "\n"
   ]
  },
  {
   "cell_type": "code",
   "execution_count": 48,
   "id": "2a50dadf-6194-4c55-ad2c-b763f85d94af",
   "metadata": {},
   "outputs": [],
   "source": [
    "# Wait for the filter options to be available after the search\n",
    "date_filter_dropdown = WebDriverWait(driver, 10).until(\n",
    "    EC.visibility_of_element_located((By.XPATH, \"//div[@role='combobox'][@aria-label= 'Filter by Date Posted']\"))\n",
    ")\n",
    "# Click the combobox to display the options\n",
    "date_filter_dropdown.click()\n",
    "\n",
    "# Wait for the dropdown options to be visible\n",
    "option_xpath = f\"//span[text()='{SEARCH_TERM_YEAR.strip()}']\"\n",
    "date_option = WebDriverWait(driver, 10).until(\n",
    "    EC.element_to_be_clickable((By.XPATH, option_xpath))\n",
    ")\n",
    "\n",
    "# Click the desired date filter option\n",
    "date_option.click()\n",
    "\n",
    "time.sleep(5) \n"
   ]
  },
  {
   "cell_type": "code",
   "execution_count": 50,
   "id": "ae2dbc3d-ef0b-4b9a-8ab4-3e8511e46bb2",
   "metadata": {},
   "outputs": [],
   "source": [
    "\n",
    "# Function to click 'See more'\n",
    "def expand_see_more(driver):\n",
    "    try:\n",
    "        while True:\n",
    "            see_more = driver.find_elements(By.XPATH, \"//div[@role='button' and text()='See more']\")\n",
    "            if not see_more:\n",
    "                break\n",
    "            for button in see_more:\n",
    "                driver.execute_script(\"arguments[0].scrollIntoView();\", button)\n",
    "                driver.execute_script(\"arguments[0].click();\", button)\n",
    "                time.sleep(1)\n",
    "    except Exception as e:\n",
    "        print(\"Error expanding 'See more':\", e)\n",
    "\n",
    "\n",
    "last_height = driver.execute_script(\"return document.body.scrollHeight\")\n",
    "\n",
    "post_content_recorded = []\n",
    "results = []\n",
    "# Scroll for 600 seconds\n",
    "start_time = time.time()\n",
    "end_time = start_time + 120\n",
    "while time.time() < end_time:\n",
    "    expand_see_more(driver)  # Expand all 'See more' in the current view\n",
    "    # Extract post texts\n",
    "    soup = BeautifulSoup(driver.page_source, \"html.parser\")\n",
    "    posts = soup.find_all(\"div\", class_=\"x1iorvi4 x1pi30zi x1l90r2v x1swvt13\")\n",
    "\n",
    "    for post in posts:\n",
    "        post_and_comments = {}\n",
    "        post_content = post.text\n",
    "        if \"… See more\" not in post_content and post_content not in post_content_recorded:\n",
    "            post_and_comments[\"post\"] = post_content\n",
    "            post_content_recorded.append(post_content)\n",
    "            results.append(post_and_comments)\n",
    "\n",
    "    # Scroll down\n",
    "    driver.execute_script(\"window.scrollTo(0, document.body.scrollHeight);\")\n",
    "    time.sleep(5)\n",
    "\n",
    "    # Check if the end of the page was reached\n",
    "    new_height = driver.execute_script(\"return document.body.scrollHeight\")\n",
    "    if new_height == last_height:\n",
    "        break\n",
    "    last_height = new_height       \n",
    "    \n"
   ]
  },
  {
   "cell_type": "code",
   "execution_count": null,
   "id": "8a75f97d-38fa-451a-9d57-2c3034631239",
   "metadata": {},
   "outputs": [],
   "source": []
  }
 ],
 "metadata": {
  "kernelspec": {
   "display_name": "Python 3 (ipykernel)",
   "language": "python",
   "name": "python3"
  },
  "language_info": {
   "codemirror_mode": {
    "name": "ipython",
    "version": 3
   },
   "file_extension": ".py",
   "mimetype": "text/x-python",
   "name": "python",
   "nbconvert_exporter": "python",
   "pygments_lexer": "ipython3",
   "version": "3.8.19"
  }
 },
 "nbformat": 4,
 "nbformat_minor": 5
}
