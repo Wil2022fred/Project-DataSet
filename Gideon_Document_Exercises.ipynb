{
 "cells": [
  {
   "cell_type": "markdown",
   "id": "9533e5de-c942-4720-a724-009e297e9b51",
   "metadata": {},
   "source": [
    "**Chapter 1  A first program**\n",
    "\\\\In this chapter, we learning how to use the folowing functions:\n",
    " * IDLE\n",
    " * TYPING THING IN (INPUT)\n",
    " * PRINT\n",
    " * SEP\n",
    " * END\n",
    " * VARIABLE\n",
    " * END\n",
    " * VARIABLE NAME"
   ]
  },
  {
   "cell_type": "code",
   "execution_count": 8,
   "id": "6521a757-1505-44f7-aa39-4090e954defd",
   "metadata": {},
   "outputs": [
    {
     "name": "stdout",
     "output_type": "stream",
     "text": [
      "On the first line. On the second line\n"
     ]
    }
   ],
   "source": [
    "print('On the first line', end='. ')\n",
    "print('On the second line')"
   ]
  },
  {
   "cell_type": "markdown",
   "id": "97eaee76-566b-4d69-bd96-8bc1e182f16c",
   "metadata": {},
   "source": [
    "**Variable**"
   ]
  },
  {
   "cell_type": "code",
   "execution_count": 10,
   "id": "43cbfecd-0466-4203-88e4-18b9cc0621d9",
   "metadata": {},
   "outputs": [
    {
     "name": "stdin",
     "output_type": "stream",
     "text": [
      "Enter a number for celsuis: 50\n"
     ]
    },
    {
     "name": "stdout",
     "output_type": "stream",
     "text": [
      "Here is the result of celsuis input: 124.0\n"
     ]
    }
   ],
   "source": [
    "temp = eval(input(\"Enter a number for celsuis:\"))\n",
    "print(\"Here is the result of celsuis input:\", 9/5*temp+34)"
   ]
  },
  {
   "cell_type": "code",
   "execution_count": 47,
   "id": "d16d43d0-bb7c-4ec0-81f5-240ecd619717",
   "metadata": {},
   "outputs": [
    {
     "name": "stdout",
     "output_type": "stream",
     "text": [
      "***************\n",
      "***************\n",
      "***************\n",
      "***************\n"
     ]
    }
   ],
   "source": [
    "for i in range(4):\n",
    "    print(\"*\"*15)"
   ]
  },
  {
   "cell_type": "code",
   "execution_count": 32,
   "id": "252d31f2-d595-49f8-a405-ae7368f05e1f",
   "metadata": {},
   "outputs": [
    {
     "name": "stdout",
     "output_type": "stream",
     "text": [
      "***************\n",
      "*             *\n",
      "*             *\n",
      "***************\n"
     ]
    }
   ],
   "source": [
    "print(\"*\"*15)\n",
    "print(\"*\",\"*\",sep=\" \"*13)\n",
    "print(\"*\",\"*\",sep=\" \"*13)\n",
    "print(\"*\"*15)"
   ]
  },
  {
   "cell_type": "code",
   "execution_count": 84,
   "id": "a898bab7-56b3-4021-9cb1-ec3e00d395c8",
   "metadata": {},
   "outputs": [
    {
     "name": "stdout",
     "output_type": "stream",
     "text": [
      "\n",
      "*\n",
      "**\n",
      "***\n",
      "****\n"
     ]
    }
   ],
   "source": [
    "for i in range(5):\n",
    "    print(\"*\"*i)"
   ]
  },
  {
   "cell_type": "code",
   "execution_count": 13,
   "id": "92e57916-fedd-4ae7-bd3a-62261597c7d0",
   "metadata": {},
   "outputs": [
    {
     "name": "stdout",
     "output_type": "stream",
     "text": [
      "The result of the calculation is roughly : 0.1017\n"
     ]
    }
   ],
   "source": [
    "num1 = 512\n",
    "num2 = 282\n",
    "num3 = 47\n",
    "num4 = 48\n",
    "comp = round((num1 - num2)/((num3*num4)+5),4)\n",
    "print(\"The result of the calculation is roughly :\",comp)"
   ]
  },
  {
   "cell_type": "code",
   "execution_count": 25,
   "id": "26a44b86-a075-430f-8073-fe239bc2acaf",
   "metadata": {},
   "outputs": [
    {
     "name": "stdin",
     "output_type": "stream",
     "text": [
      "Enter a number: 5\n"
     ]
    },
    {
     "name": "stdout",
     "output_type": "stream",
     "text": [
      "The square of 5 is 25."
     ]
    }
   ],
   "source": [
    "num = eval(input(\"Enter a number:\" ))\n",
    "result = num * num\n",
    "print(\"The square of\",num,\"is\",result,sep=\" \", end=\".\")\n"
   ]
  },
  {
   "cell_type": "code",
   "execution_count": 144,
   "id": "0f8dfb01-119e-4b1a-b45e-1cc779f9c579",
   "metadata": {},
   "outputs": [
    {
     "name": "stdin",
     "output_type": "stream",
     "text": [
      "Enter a number: 5\n"
     ]
    },
    {
     "name": "stdout",
     "output_type": "stream",
     "text": [
      "7---14---21---28---35---"
     ]
    }
   ],
   "source": [
    "num = eval(input(\"Enter a number:\" ))\n",
    "for i in range(7,40,7):\n",
    "    print(i,end=\"---\")"
   ]
  },
  {
   "cell_type": "code",
   "execution_count": 10,
   "id": "cc177bcc-a2ec-4229-8b73-30b88bbe1a57",
   "metadata": {},
   "outputs": [
    {
     "name": "stdin",
     "output_type": "stream",
     "text": [
      "Enter a number: 7\n"
     ]
    },
    {
     "name": "stdout",
     "output_type": "stream",
     "text": [
      "7---14---21---28---35\n"
     ]
    }
   ],
   "source": [
    "num = eval(input(\"Enter a number:\" ))\n",
    "print(num, 2*num, 3*num, 4*num, 5*num, sep=\"---\")\n"
   ]
  },
  {
   "cell_type": "code",
   "execution_count": 12,
   "id": "1b64e004-6066-4a94-aacf-3222e6b84914",
   "metadata": {},
   "outputs": [
    {
     "name": "stdin",
     "output_type": "stream",
     "text": [
      "Enter the weight in kilogram: 8\n"
     ]
    },
    {
     "name": "stdout",
     "output_type": "stream",
     "text": [
      "Here is the conversion in pounds: 17.6\n"
     ]
    }
   ],
   "source": [
    "weight = eval(input(\"Enter the weight in kilogram:\"))\n",
    "weight_pounds = weight * 2.2\n",
    "print(\"Here is the conversion in pounds:\", weight_pounds)\n",
    "   "
   ]
  },
  {
   "cell_type": "code",
   "execution_count": 26,
   "id": "39cac2f3-1ef9-4e15-bf4c-09c9dfe9e502",
   "metadata": {},
   "outputs": [
    {
     "name": "stdin",
     "output_type": "stream",
     "text": [
      "Enter a number1: 50\n",
      "Enter a number2: 50\n",
      "Enter a number3: 90\n"
     ]
    },
    {
     "name": "stdout",
     "output_type": "stream",
     "text": [
      "The total of the three numbers is 190 and their avarage is: 63.333333333333336\n"
     ]
    }
   ],
   "source": [
    "num1 = int(input(\"Enter a number1:\" ))\n",
    "num2 = int(input(\"Enter a number2:\" ))\n",
    "num3 = int(input(\"Enter a number3:\" ))\n",
    "\n",
    "# I am trying to use the len of total to get the average but it is not working\n",
    "total = num1+num2+num3\n",
    "average = total/3\n",
    "print(\"The total of the three numbers is\",total,\"and their avarage is:\",average, sep=\" \")"
   ]
  },
  {
   "cell_type": "code",
   "execution_count": 27,
   "id": "1954c4ad-48e5-4e61-91e5-d2beeaa1d2ca",
   "metadata": {},
   "outputs": [
    {
     "name": "stdin",
     "output_type": "stream",
     "text": [
      "Enter the price of the meal: 150\n",
      "Enter the percentage of the tip: 25\n"
     ]
    },
    {
     "name": "stdout",
     "output_type": "stream",
     "text": [
      "This is the tips amount 37.5 and this is the total bill 187.5\n"
     ]
    }
   ],
   "source": [
    "num1 = int(input(\"Enter the price of the meal:\"))\n",
    "num2 = int(input(\"Enter the percentage of the tip:\"))\n",
    "tips = (num1 * num2)/ 100\n",
    "total_bill = num1 + tips\n",
    "print(\"This is the tips amount\",tips,\"and this is the total bill\",total_bill)"
   ]
  },
  {
   "cell_type": "markdown",
   "id": "2d6eb8cc-8e19-4429-947b-ddc5fada16a1",
   "metadata": {},
   "source": [
    "**Chapter 2 In this chapter, we learning how to use the folowing functions:**\r",
    "*For loopsL*The loop variableU*The range functionR*A Trickier\r",
    "ABLE NAME"
   ]
  },
  {
   "cell_type": "code",
   "execution_count": 154,
   "id": "3d68640f-ba6e-4b37-a624-32f5693e1d81",
   "metadata": {},
   "outputs": [
    {
     "name": "stdout",
     "output_type": "stream",
     "text": [
      "*\n",
      "****** **\n",
      "****** ***\n",
      "****** ****\n",
      "****** *****\n",
      "****** "
     ]
    }
   ],
   "source": [
    "for i in range(5):\n",
    "    print('*'*(i+1))\n",
    "    print('*'*6, end=' ')"
   ]
  },
  {
   "cell_type": "code",
   "execution_count": 156,
   "id": "e6d1107d-bbc8-4aae-b6c6-4279b632e3db",
   "metadata": {},
   "outputs": [
    {
     "name": "stdout",
     "output_type": "stream",
     "text": [
      "Wilfried Wilfried Wilfried Wilfried Wilfried Wilfried Wilfried Wilfried Wilfried Wilfried Wilfried Wilfried Wilfried Wilfried Wilfried Wilfried Wilfried Wilfried Wilfried Wilfried Wilfried Wilfried Wilfried Wilfried Wilfried Wilfried Wilfried Wilfried Wilfried Wilfried Wilfried Wilfried Wilfried Wilfried Wilfried Wilfried Wilfried Wilfried Wilfried Wilfried Wilfried Wilfried Wilfried Wilfried Wilfried Wilfried Wilfried Wilfried Wilfried Wilfried Wilfried Wilfried Wilfried Wilfried Wilfried Wilfried Wilfried Wilfried Wilfried Wilfried Wilfried Wilfried Wilfried Wilfried Wilfried Wilfried Wilfried Wilfried Wilfried Wilfried Wilfried Wilfried Wilfried Wilfried Wilfried Wilfried Wilfried Wilfried Wilfried Wilfried Wilfried Wilfried Wilfried Wilfried Wilfried Wilfried Wilfried Wilfried Wilfried Wilfried Wilfried Wilfried Wilfried Wilfried Wilfried Wilfried Wilfried Wilfried Wilfried Wilfried "
     ]
    }
   ],
   "source": [
    "for i in range(100):\n",
    "    print(\"Wilfried\", end=\" \")"
   ]
  },
  {
   "cell_type": "code",
   "execution_count": 157,
   "id": "ac4ccb66-6d10-43ca-a1b8-769947109b96",
   "metadata": {},
   "outputs": [
    {
     "name": "stdout",
     "output_type": "stream",
     "text": [
      "0 Wilfried\n",
      "1 Wilfried\n",
      "2 Wilfried\n",
      "3 Wilfried\n",
      "4 Wilfried\n",
      "5 Wilfried\n",
      "6 Wilfried\n",
      "7 Wilfried\n",
      "8 Wilfried\n",
      "9 Wilfried\n"
     ]
    }
   ],
   "source": [
    "for i in range(10):\n",
    "    print(i,\"Wilfried\")"
   ]
  },
  {
   "cell_type": "code",
   "execution_count": 159,
   "id": "135e66ac-b724-4a86-8fc4-8da0dc7975ec",
   "metadata": {},
   "outputs": [
    {
     "name": "stdout",
     "output_type": "stream",
     "text": [
      "1 1\n",
      "2 4\n",
      "3 9\n",
      "4 16\n",
      "5 25\n",
      "6 36\n",
      "7 49\n",
      "8 64\n",
      "9 81\n"
     ]
    }
   ],
   "source": [
    "# I use 10 instead of 100 to save space \n",
    "for i in range(1,10):\n",
    "    print(i, i**2)"
   ]
  },
  {
   "cell_type": "code",
   "execution_count": 166,
   "id": "c1dcb750-cf62-4e0e-a6ac-d9a17b6c6c29",
   "metadata": {},
   "outputs": [
    {
     "name": "stdout",
     "output_type": "stream",
     "text": [
      "8 11 14 17 20 23 26 29 32 35 38 41 44 47 50 53 56 59 62 65 68 71 74 77 80 83 86 89 "
     ]
    }
   ],
   "source": [
    "for i in range(8,90,3):\n",
    "    print(i, end=\" \")"
   ]
  },
  {
   "cell_type": "code",
   "execution_count": 169,
   "id": "2ca2e168-0360-4737-aa31-9308a18205ca",
   "metadata": {},
   "outputs": [
    {
     "name": "stdout",
     "output_type": "stream",
     "text": [
      "100 98 96 94 92 90 88 86 84 82 80 78 76 74 72 70 68 66 64 62 60 58 56 54 52 50 48 46 44 42 40 38 36 34 32 30 28 26 24 22 20 18 16 14 12 10 8 6 4 2 "
     ]
    }
   ],
   "source": [
    "for i in range(100,1,-2):\n",
    "    print(i, end=\" \")"
   ]
  },
  {
   "cell_type": "code",
   "execution_count": 39,
   "id": "bf91d352-1089-4ca9-8508-d0fca5540c36",
   "metadata": {},
   "outputs": [
    {
     "name": "stdout",
     "output_type": "stream",
     "text": [
      "AAAAAAAAAABBBBBBBCDCDCDCDEFFFFFFG"
     ]
    }
   ],
   "source": [
    "for i in range(10):\n",
    "    print(\"A\", end=\"\")\n",
    "for i in range(7):\n",
    "    print(\"B\",end=\"\")\n",
    "for i in range(4):\n",
    "    print(\"CD\",end=\"\")\n",
    "print(\"E\",end=\"\")\n",
    "for i in range(6):\n",
    "    print(\"F\",end=\"\")\n",
    "print(\"G\",end=\"\")  "
   ]
  },
  {
   "cell_type": "code",
   "execution_count": 44,
   "id": "85432e58-0ce3-4631-ad4b-4b9e078dc5c8",
   "metadata": {},
   "outputs": [
    {
     "name": "stdin",
     "output_type": "stream",
     "text": [
      "Please enter you name Wilfried \n",
      " How many time should it print your name:  4\n"
     ]
    },
    {
     "name": "stdout",
     "output_type": "stream",
     "text": [
      "Wilfried  Wilfried  Wilfried  Wilfried  \n"
     ]
    }
   ],
   "source": [
    "name = input(\"Please enter you name\")\n",
    "num_print = eval(input(\" How many time should it print your name: \"))\n",
    "name = name + \" \"\n",
    "print(name * num_print)"
   ]
  },
  {
   "cell_type": "markdown",
   "id": "5a3802cd-a7de-4fe0-ae0f-51946528e166",
   "metadata": {},
   "source": [
    "**Working on this** \n",
    "\n",
    "The Fibonacci numbers are the sequence below, where the first two numbers are 1, and each\r\n",
    "number thereafter is the sum of the two preceding numbers. Write a program that asks the\r\n",
    "user how many Fibonacci numbers to print and then prints that many"
   ]
  },
  {
   "cell_type": "code",
   "execution_count": null,
   "id": "cad9d244-72e4-430d-93e6-05b89054890a",
   "metadata": {},
   "outputs": [],
   "source": []
  },
  {
   "cell_type": "code",
   "execution_count": 191,
   "id": "00edd79f-88b7-4b50-b657-47a12c042a61",
   "metadata": {},
   "outputs": [
    {
     "name": "stdout",
     "output_type": "stream",
     "text": [
      "********************\n",
      "********************\n",
      "********************\n",
      "********************\n"
     ]
    }
   ],
   "source": [
    "for i in range (4):\n",
    "    print(\"*\"*20)"
   ]
  },
  {
   "cell_type": "code",
   "execution_count": 134,
   "id": "9b12cf6f-1331-4d42-a15e-49603186e632",
   "metadata": {},
   "outputs": [
    {
     "name": "stdout",
     "output_type": "stream",
     "text": [
      "***************\n",
      "*             *\n",
      "*             *\n",
      "***************\n"
     ]
    }
   ],
   "source": [
    "print(\"*\"*15)\n",
    "print(\"*\",\"*\",sep=\" \"*13)\n",
    "print(\"*\",\"*\",sep=\" \"*13)\n",
    "print(\"*\"*15)"
   ]
  },
  {
   "cell_type": "code",
   "execution_count": 195,
   "id": "6a543ff7-4a73-4b19-9e45-1b7ff6fa7df5",
   "metadata": {},
   "outputs": [
    {
     "name": "stdout",
     "output_type": "stream",
     "text": [
      "\n",
      "*\n",
      "**\n",
      "***\n",
      "****\n"
     ]
    }
   ],
   "source": [
    "for i in range(5):\n",
    "    print(\"*\"*i)"
   ]
  },
  {
   "cell_type": "code",
   "execution_count": 202,
   "id": "df8d0df3-a74e-49c7-8e92-8b1162b88e2e",
   "metadata": {},
   "outputs": [
    {
     "name": "stdout",
     "output_type": "stream",
     "text": [
      "****\n",
      "***\n",
      "**\n",
      "*\n"
     ]
    }
   ],
   "source": [
    "for i in range(4,0,-1):\n",
    "    print(\"*\"*i)"
   ]
  },
  {
   "cell_type": "markdown",
   "id": "3690f1a6-3e36-4ca2-b99c-420d512efce5",
   "metadata": {},
   "source": [
    "*Working on this \n",
    "Use for loops to print a diamond like the one below. Allow the user to specify how high the\r\n",
    "diamond should be.***\r\n",
    "*"
   ]
  },
  {
   "cell_type": "code",
   "execution_count": 62,
   "id": "38603b5d-9315-480e-ae82-79adc809a7b2",
   "metadata": {},
   "outputs": [
    {
     "name": "stdin",
     "output_type": "stream",
     "text": [
      "Please How high so you want the diamond to be? 3\n"
     ]
    },
    {
     "name": "stdout",
     "output_type": "stream",
     "text": [
      " * \n",
      "***\n",
      " * \n"
     ]
    }
   ],
   "source": [
    "user_inp = eval(input(\"Please How high so you want the diamond to be?\"))\n",
    "remainder = user_inp//2\n",
    "\n",
    "for i in range(user_inp-remainder):\n",
    "    print(\" \"*(remainder-i),\"*\"*i,\"*\", \"*\"*i, \" \"*(remainder-i), sep=\"\")\n",
    "for i in range(remainder):\n",
    "    print(\" \"*(i+1),\"*\"*(remainder-(1+i)),\"*\", \"*\"*(remainder-(1+i)), \" \"*(i+1), sep=\"\")\n",
    "    \n",
    "    "
   ]
  },
  {
   "cell_type": "code",
   "execution_count": 30,
   "id": "76756a1c-f7cc-4801-806d-bc85f228760b",
   "metadata": {},
   "outputs": [
    {
     "name": "stdin",
     "output_type": "stream",
     "text": [
      "Please How high do you want the diamond to be? 2\n"
     ]
    },
    {
     "name": "stdout",
     "output_type": "stream",
     "text": [
      "     ***\n",
      "    *****\n",
      "   *******\n",
      "  *********\n",
      "   *******\n",
      "    *****\n",
      "     **\n"
     ]
    }
   ],
   "source": [
    "user_inp = eval(input(\"Please How high do you want the diamond to be?\"))\n",
    "for i in range(user_inp,1,-1): \n",
    "    print(\" \"*(4),\"*\"*(i+1))\n",
    "    print(\" \"*4,\"*\"*(i+3), sep=\"\")\n",
    "    print(\" \"*2,\"*\"*(i+5), sep=\" \")\n",
    "    print(\" \",\"*\"*(i+7), sep=\" \")\n",
    "    print(\" \"*2,\"*\"*(i+5), sep=\" \") \n",
    "    print(\" \"*4,\"*\"*(i+3), sep=\"\")\n",
    "    print(\" \"*(4),\"*\"*i)"
   ]
  },
  {
   "cell_type": "code",
   "execution_count": 87,
   "id": "7e877fcf-0d8c-434a-a839-97f27a202146",
   "metadata": {},
   "outputs": [
    {
     "name": "stdin",
     "output_type": "stream",
     "text": [
      "Please How large do you want the diamond to be? 10\n"
     ]
    },
    {
     "name": "stdout",
     "output_type": "stream",
     "text": [
      "     *       \n",
      "    **       \n",
      "   ***       \n",
      "  ****       \n",
      " *****       \n"
     ]
    }
   ],
   "source": [
    "user_inp = eval(input(\"Please How large do you want the diamond to be?\"))\n",
    "remainder = user_inp//2\n",
    "\n",
    "for i in range(user_inp-remainder):\n",
    "    #print(\" \"*(remainder-i),\"*\"*i,\"*\", \"*\"*i, \" \"*(remainder-i), sep=\"\")\n",
    "    print(\" \"*(remainder-i),\"*\"*(i+1),\" \", \" \"*(i+1), \" \"*(remainder-i), sep=\"\")\n",
    "# for i in range(remainder):\n",
    "#     print(\" \"*(i+1),\"*\"*(remainder-(1+i)),\"*\", \"*\"*(remainder-(1+i)), \" \"*(i+1), sep=\"\")"
   ]
  },
  {
   "cell_type": "markdown",
   "id": "949063b6-e8cd-49c1-9575-9e5f48ef208d",
   "metadata": {},
   "source": [
    ". Write a program that prints a giant letter A like the one below. Allow the user to specify how\r\n",
    "large the letter should be.\r"
   ]
  },
  {
   "cell_type": "code",
   "execution_count": 28,
   "id": "240ae979-7733-49e9-8433-24aedf12834f",
   "metadata": {},
   "outputs": [
    {
     "name": "stdin",
     "output_type": "stream",
     "text": [
      "Please How large do you want the diamond to be? 3\n"
     ]
    },
    {
     "name": "stdout",
     "output_type": "stream",
     "text": [
      "           *\n",
      "       *      *\n",
      "     *          *\n",
      "    **************\n",
      "   *              *\n",
      "  *                *\n",
      " *                  *\n",
      "           *\n",
      "       *      *\n",
      "     *          *\n",
      "    **************\n",
      "   *              *\n",
      "  *                *\n",
      " *                  *\n",
      "           *\n",
      "       *      *\n",
      "     *          *\n",
      "    **************\n",
      "   *              *\n",
      "  *                *\n",
      " *                  *\n"
     ]
    }
   ],
   "source": [
    "user_inp = eval(input(\"Please How large do you want the diamond to be?\"))\n",
    "for i in range(user_inp,0,-1):\n",
    "    print(\" \"*(10),\"*\")\n",
    "    print(\" \",\"*\",\"*\", sep=\" \"*6)\n",
    "    print(\" \",\"*\",\" \"*2,\"*\", sep=\" \"*4)\n",
    "    print(\" \"*2,\"*\"*14, sep=\" \"*2)\n",
    "    print(\" \",\"*\",\" \"*10,\"*\", sep=\" \"*2)\n",
    "    print(\" \"*-1,\"*\",\" \"*12,\"*\", sep=\" \"*2)\n",
    "    print(\" \"*-2,\"*\",\" \"*16,\"*\", sep=\" \")\n"
   ]
  },
  {
   "cell_type": "markdown",
   "id": "029af845-d130-4ff6-8c40-635524d7c4fb",
   "metadata": {},
   "source": [
    "**3.8 Chapter 3 Exercises**"
   ]
  },
  {
   "cell_type": "markdown",
   "id": "c8ae7106-877b-4c7c-b0b9-cc78ff1d5d37",
   "metadata": {},
   "source": [
    "1. Write a program that generates and prints 50 random integers, each between 3 and 6.\r\n",
    "2. Write a program that generates a random number, x, between 1 and 50, a random number y\r\n",
    "between 2 and 5, and computes x\n",
    "y\r\n",
    ".\r\n",
    "3. Write a program that generates a random number between 1 and 10 and prints your name\r\n",
    "that many times.\r\n",
    "4. Write a program that generates a random decimal number between 1 and 10 with two decimal\r\n",
    "places of accuracy. Examples are 1.23, 3.45, 9.80, and 5.00.\r\n",
    "5. Write a program that generates 50 random numbers such that the first number is between 1\r\n",
    "and 2, the second is between 1 and 3, the third is between 1 and 4, . . . , and the last  s between\r\n",
    "1 and 51.\r\n",
    "6. Write a program that asks the user to enter two numbers, x and y, and co put s |x−y|\r\n",
    "x+y\r\n",
    ".\r\n",
    "7. Write a program that asks the user to enter an angl  between−180◦\r\n",
    "and 180◦\r\n",
    ". Using an\r\n",
    "expression with the modulo operator, convert the angle to its eqi ale t beween 0\r\n",
    "◦\r\n",
    "and\r\n",
    "360◦\r\n",
    "."
   ]
  },
  {
   "cell_type": "code",
   "execution_count": 8,
   "id": "e01d9352-47a3-48a7-bea4-0020bd41c722",
   "metadata": {},
   "outputs": [],
   "source": [
    "from random import randint "
   ]
  },
  {
   "cell_type": "code",
   "execution_count": 384,
   "id": "7fa9db0f-ef65-46e6-8586-752b6496761a",
   "metadata": {},
   "outputs": [
    {
     "name": "stdout",
     "output_type": "stream",
     "text": [
      "5 3 6 5 3 5 6 3 4 4 4 4 5 4 5 6 5 6 5 3 3 5 3 6 6 5 3 6 6 5 3 5 3 4 3 4 6 3 3 5 3 5 5 3 5 5 4 4 3 3 "
     ]
    }
   ],
   "source": [
    "for x in range (50):\n",
    "    x = randint(3,6)\n",
    "    print(x, end=\" \")"
   ]
  },
  {
   "cell_type": "code",
   "execution_count": 395,
   "id": "8044c66f-e67b-42ba-a988-4a9f5c70656e",
   "metadata": {},
   "outputs": [
    {
     "name": "stdout",
     "output_type": "stream",
     "text": [
      "The Computation of x and y is: 145 "
     ]
    }
   ],
   "source": [
    "for x in range (50):\n",
    "    x = randint(1,50)\n",
    "    y = randint(2,5)\n",
    "    z = x * y \n",
    "print(\"The Computation of x and y is:\", z, end=\" \") "
   ]
  },
  {
   "cell_type": "code",
   "execution_count": 394,
   "id": "6aa56d99-d7fd-4114-8758-9cb689ab6e30",
   "metadata": {},
   "outputs": [
    {
     "name": "stdout",
     "output_type": "stream",
     "text": [
      "1 Wilfried 2 Wilfried 3 Wilfried 4 Wilfried 5 Wilfried 6 Wilfried 7 Wilfried 8 Wilfried 9 Wilfried 10 Wilfried "
     ]
    }
   ],
   "source": [
    "for x in range (1,11):\n",
    "    name = \"Wilfried\"\n",
    "    print(x, name, end=\" \")"
   ]
  },
  {
   "cell_type": "code",
   "execution_count": 409,
   "id": "e1b5fbd8-3bb1-4119-bc9c-6d1d1818b3e9",
   "metadata": {},
   "outputs": [
    {
     "name": "stdout",
     "output_type": "stream",
     "text": [
      "2.77 1.59 4.68 3.92 6.84 6.08 6.17 8.28 2.71 4.02 "
     ]
    }
   ],
   "source": [
    "for x in range (1,11):\n",
    "    x = round(random.uniform(1,10),2)\n",
    "    print(x, end=\" \")"
   ]
  },
  {
   "cell_type": "code",
   "execution_count": 10,
   "id": "38230364-1ae6-4c8b-8f2b-a62248671eb8",
   "metadata": {},
   "outputs": [
    {
     "name": "stdout",
     "output_type": "stream",
     "text": [
      "2 1 2 40\n"
     ]
    }
   ],
   "source": [
    "# Write a program that generates 50 random numbers such that the first number is between 1\n",
    "# and 2, the second is between 1 and 3, the third is between 1 and 4, . . . , and the last is between 1 and 51.\n",
    "for i in range (1,51):\n",
    "    x = randint(1,2)\n",
    "    y = randint(1,x+1)\n",
    "    z = randint(1,y+1)\n",
    "    n = randint(1,i)\n",
    "print(x,y,z,n)"
   ]
  },
  {
   "cell_type": "code",
   "execution_count": 12,
   "id": "4ccbadb8-7fae-46ab-b1b5-0f2c8b4a22f7",
   "metadata": {},
   "outputs": [
    {
     "name": "stdin",
     "output_type": "stream",
     "text": [
      "Please enter your first number? 10\n",
      "Please enter your second number? 5\n"
     ]
    },
    {
     "name": "stdout",
     "output_type": "stream",
     "text": [
      "The result of |x-y| is: 5 and the result of x+y is: 15\n"
     ]
    }
   ],
   "source": [
    "#6. Write a program that asks the user to enter two numbers, x and y, and computes |x−y| x+y .\n",
    "x = eval(input(\"Please enter your first number?\"))\n",
    "y = eval(input(\"Please enter your second number?\"))\n",
    "comp1 = abs(x-y)\n",
    "comp2 = x + y\n",
    "print(\"The result of |x-y| is:\", comp1, \"and the result of x+y is:\", comp2)"
   ]
  },
  {
   "cell_type": "code",
   "execution_count": 13,
   "id": "aa1f9881-3602-433f-a672-701829cbe7a1",
   "metadata": {},
   "outputs": [
    {
     "name": "stdin",
     "output_type": "stream",
     "text": [
      "Please enter your first number between -180 and 180:  50\n"
     ]
    },
    {
     "name": "stdout",
     "output_type": "stream",
     "text": [
      "50.0\n"
     ]
    }
   ],
   "source": [
    "#7. Write a program that asks the user to enter an angle between −180◦ and 180◦. Using an expression with the modulo operator, convert the angle to \n",
    "#its equivalent between 0◦ and 360◦.\n",
    "x = float(input(\"Please enter your first number between -180 and 180: \"))\n",
    "if x < -180 and x > 180:\n",
    "    print(\"you enter a wrong number, please enter again\")\n",
    "else:\n",
    "    result = (x + 360) %360\n",
    "print(result)\n"
   ]
  },
  {
   "cell_type": "code",
   "execution_count": null,
   "id": "6338b0b7-da84-489f-b200-2c7dce21edad",
   "metadata": {},
   "outputs": [],
   "source": [
    "\n",
    "\n",
    "\n",
    "\n"
   ]
  },
  {
   "cell_type": "markdown",
   "id": "1dc47be4-a8a1-4712-87c7-1f9865ad07ef",
   "metadata": {},
   "source": [
    "8. Write a program that asks the user for a number of seconds and prints out how many minutes\n",
    "and seconds that is. For instance, 200 seconds is 3 minutes and 20 seconds. [Hint: Use the //\n",
    "operator to get minutes and the % operator to get seconds.]"
   ]
  },
  {
   "cell_type": "code",
   "execution_count": 570,
   "id": "9d4ab18b-f0c8-4aca-8732-e1f7a0c11ced",
   "metadata": {},
   "outputs": [
    {
     "name": "stdin",
     "output_type": "stream",
     "text": [
      "Enter a number: 45\n"
     ]
    },
    {
     "name": "stdout",
     "output_type": "stream",
     "text": [
      "This is the minute from the entry number: 0\n"
     ]
    }
   ],
   "source": [
    "user_inp = int(input(\"Enter a number:\"))\n",
    "minut = ((user_inp * 3)//200)%20\n",
    "print(\"This is the minute from the entry number:\",minut)"
   ]
  },
  {
   "cell_type": "markdown",
   "id": "ea734974-02df-482d-b0d8-0f191aea3e10",
   "metadata": {},
   "source": [
    "9. Write a program that asks the user for an hour between 1 and 12 and for how many hours in\n",
    "the future they want to go. Print out what the hour will be that many hours into the future.\n",
    "An example is shown below.\n",
    "Enter hour: 8\n",
    "How many hours ahead? 5\n",
    "New hour: 1 o'clock"
   ]
  },
  {
   "cell_type": "code",
   "execution_count": 524,
   "id": "8a8fe5d0-d032-4901-b7f5-95c8e6e3429f",
   "metadata": {},
   "outputs": [
    {
     "name": "stdin",
     "output_type": "stream",
     "text": [
      "Please enter a number between 1 and 12: 10\n",
      "How many hours in they future do you want to go?: 5\n"
     ]
    },
    {
     "name": "stdout",
     "output_type": "stream",
     "text": [
      "New_hour: 2 o'clock\n"
     ]
    }
   ],
   "source": [
    "user_inp = int(input(\"Please enter a number between 1 and 12:\"))\n",
    "user_inp2 = int(input(\"How many hours in they future do you want to go?:\"))\n",
    "new_hour = (user_inp * user_inp2)//24\n",
    "print(\"New_hour:\", new_hour, \"o'clock\")"
   ]
  },
  {
   "cell_type": "markdown",
   "id": "98d15f0b-222e-47fa-8b46-af98c184f444",
   "metadata": {},
   "source": [
    "10. (a) One way to find out the last digit of a number is to mod the number by 10. Write a\n",
    "program that asks the user to enter a power. Then find the last digit of 2 raised to that\n",
    "power.\n",
    "(b) One way to find out the last two digits of a number is to mod the number by 100. Write\n",
    "a program that asks the user to enter a power. Then find the last two digits of 2 raised to\n",
    "that power.\n",
    "(c) Write a program that asks the user to enter a power and how many digits they want.\n",
    "Find the last that many digits of 2 raised to the power the user entered."
   ]
  },
  {
   "cell_type": "code",
   "execution_count": 569,
   "id": "eb1ec3af-a04f-4cd0-8151-41b9f8674d0e",
   "metadata": {},
   "outputs": [
    {
     "name": "stdin",
     "output_type": "stream",
     "text": [
      "Enter a weight in kilograms: 36\n"
     ]
    },
    {
     "name": "stdout",
     "output_type": "stream",
     "text": [
      "0.0\n"
     ]
    }
   ],
   "source": [
    "num10 = int(input(\"Enter a power :\"))\n",
    "power = pow(num10, 2)\n",
    "last_digi = (num10//power)%100\n",
    "print(last_digi)"
   ]
  },
  {
   "cell_type": "markdown",
   "id": "a89a3c11-0a57-40e3-8f98-d5023dc50e25",
   "metadata": {},
   "source": [
    "11. Write a program that asks the user to enter a weight in kilograms. The program should\n",
    "convert it to pounds, printing the answer rounded to the nearest tenth of a pound."
   ]
  },
  {
   "cell_type": "code",
   "execution_count": 526,
   "id": "4dfef86c-71a2-452b-9473-88617debfee7",
   "metadata": {},
   "outputs": [
    {
     "name": "stdin",
     "output_type": "stream",
     "text": [
      "Enter a weight in kilograms: 10\n"
     ]
    },
    {
     "name": "stdout",
     "output_type": "stream",
     "text": [
      "Here is the convertion in pounds: 22.0\n"
     ]
    }
   ],
   "source": [
    "num = int(input(\"Enter a weight in kilograms:\"))\n",
    "pound = num * 2.2\n",
    "print(\"Here is the convertion in pounds:\", round(pound,2))"
   ]
  },
  {
   "cell_type": "markdown",
   "id": "df3ca885-feef-485a-9009-1b09685b8cc9",
   "metadata": {},
   "source": [
    "12. Write a program that asks the user for a number and prints out the factorial of that number."
   ]
  },
  {
   "cell_type": "code",
   "execution_count": 527,
   "id": "5cd08161-6f8f-4724-a76f-24090b7e36a2",
   "metadata": {},
   "outputs": [],
   "source": [
    "import math\n",
    "from math import factorial"
   ]
  },
  {
   "cell_type": "code",
   "execution_count": 530,
   "id": "2eb04df2-f0c0-40ec-b27e-64ca23e017ff",
   "metadata": {},
   "outputs": [
    {
     "name": "stdin",
     "output_type": "stream",
     "text": [
      "Please enter a number: 40\n"
     ]
    },
    {
     "name": "stdout",
     "output_type": "stream",
     "text": [
      "815915283247897734345611269596115894272000000000\n"
     ]
    }
   ],
   "source": [
    "num12 = int(input(\"Please enter a number:\"))\n",
    "facto = factorial(num12)\n",
    "print(facto)"
   ]
  },
  {
   "cell_type": "markdown",
   "id": "53163edf-678e-47ac-8798-71223f005365",
   "metadata": {},
   "source": [
    "13. Write a program that asks the user for a number and then prints out the sine, cosine, and\n",
    "tangent of that number."
   ]
  },
  {
   "cell_type": "code",
   "execution_count": 554,
   "id": "50fe6067-3d0e-44f8-82c3-fefa5af6b827",
   "metadata": {},
   "outputs": [],
   "source": [
    "from math import sin\n",
    "from math import cos\n",
    "from math import tan\n",
    "from math import pow\n"
   ]
  },
  {
   "cell_type": "code",
   "execution_count": 537,
   "id": "70c0963a-5796-4f5f-9d3f-747efd74170b",
   "metadata": {},
   "outputs": [
    {
     "name": "stdin",
     "output_type": "stream",
     "text": [
      "Please enter a number: 10\n"
     ]
    },
    {
     "name": "stdout",
     "output_type": "stream",
     "text": [
      "The sine is: -0.5440211108893698 the cosine is: -0.8390715290764524 The tangent is: 0.6483608274590866\n"
     ]
    }
   ],
   "source": [
    "num12 = int(input(\"Please enter a number:\"))\n",
    "sine = sin(num12)\n",
    "cosine = cos(num12)\n",
    "tangent = tan(num12)\n",
    "print(\"The sine is:\", sine, \"the cosine is:\", cosine, \"The tangent is:\", tangent)"
   ]
  },
  {
   "cell_type": "markdown",
   "id": "85e3e341-829e-4e09-b5c7-a8f5bf37ed4b",
   "metadata": {},
   "source": [
    "14. Write a program that asks the user to enter an angle in degrees and prints out the sine of that\n",
    "angle."
   ]
  },
  {
   "cell_type": "code",
   "execution_count": 539,
   "id": "f5a0dc28-912c-4723-9ea2-60ea57c9b924",
   "metadata": {},
   "outputs": [
    {
     "name": "stdin",
     "output_type": "stream",
     "text": [
      "Please enter an angle degree: 180\n"
     ]
    },
    {
     "name": "stdout",
     "output_type": "stream",
     "text": [
      "The sine is: -0.8011526357338304\n"
     ]
    }
   ],
   "source": [
    "num13 = int(input(\"Please enter an angle degree:\"))\n",
    "\n",
    "sine = sin(num13)\n",
    "print(\"The sine is:\", sine)"
   ]
  },
  {
   "cell_type": "markdown",
   "id": "1092d746-04ff-4f38-a6fc-22d0dcee4e24",
   "metadata": {},
   "source": [
    "15. Write a program that prints out the sine and cosine of the angles ranging from 0 to 345◦\n",
    "in 15◦ increments. Each result should be rounded to 4 decimal places. Sample output is shown\n",
    "below:\n",
    "0 --- 0.0 1.0\n",
    "15 --- 0.2588 0.9659\n",
    "30 --- 0.5 0.866\n",
    "...\n",
    "345 --- -0.2588 0.9659"
   ]
  },
  {
   "cell_type": "code",
   "execution_count": 550,
   "id": "53372ea5-44d6-41c1-9d70-1f531bdd776e",
   "metadata": {},
   "outputs": [
    {
     "name": "stdout",
     "output_type": "stream",
     "text": [
      "The sine is: -0.1324 the cosine is: -0.9912\n"
     ]
    }
   ],
   "source": [
    "for num15 in range(0,345,15):\n",
    "\n",
    "    sine = round(sin(num15),4)\n",
    "    cosine = round(cos(num15),4)\n",
    "\n",
    "    \n",
    "print(\"The sine is:\", sine, \"the cosine is:\", cosine)"
   ]
  },
  {
   "cell_type": "code",
   "execution_count": null,
   "id": "8ec6ab75-e149-4ed2-ae38-629e72d8b30e",
   "metadata": {},
   "outputs": [],
   "source": []
  }
 ],
 "metadata": {
  "kernelspec": {
   "display_name": "Python 3 (ipykernel)",
   "language": "python",
   "name": "python3"
  },
  "language_info": {
   "codemirror_mode": {
    "name": "ipython",
    "version": 3
   },
   "file_extension": ".py",
   "mimetype": "text/x-python",
   "name": "python",
   "nbconvert_exporter": "python",
   "pygments_lexer": "ipython3",
   "version": "3.8.19"
  }
 },
 "nbformat": 4,
 "nbformat_minor": 5
}
