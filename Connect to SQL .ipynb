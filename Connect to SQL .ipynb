{
 "cells": [
  {
   "cell_type": "code",
   "execution_count": 1,
   "id": "e8773034",
   "metadata": {},
   "outputs": [
    {
     "name": "stdout",
     "output_type": "stream",
     "text": [
      "Collecting pypyodbcNote: you may need to restart the kernel to use updated packages.\n",
      "  Downloading pypyodbc-1.3.6.tar.gz (24 kB)\n",
      "Requirement already satisfied: setuptools in c:\\users\\12408\\anaconda3\\lib\\site-packages (from pypyodbc) (52.0.0.post20210125)\n",
      "Building wheels for collected packages: pypyodbc\n",
      "  Building wheel for pypyodbc (setup.py): started\n",
      "  Building wheel for pypyodbc (setup.py): finished with status 'done'\n",
      "  Created wheel for pypyodbc: filename=pypyodbc-1.3.6-py3-none-any.whl size=22868 sha256=6088ace79518d22c897c4493a0c1f46628c4d8452371ec9bf09255a2a500cd3f\n",
      "  Stored in directory: c:\\users\\12408\\appdata\\local\\pip\\cache\\wheels\\7c\\46\\fe\\0b509468ee0e46c039f07ee6fafe49c26f87b24f434f5462e9\n",
      "Successfully built pypyodbc\n",
      "Installing collected packages: pypyodbc\n",
      "Successfully installed pypyodbc-1.3.6\n",
      "\n"
     ]
    }
   ],
   "source": [
    "pip install pypyodbc"
   ]
  },
  {
   "cell_type": "code",
   "execution_count": 9,
   "id": "5c88568a",
   "metadata": {},
   "outputs": [],
   "source": [
    "import pypyodbc as odbc \n",
    "import pandas as pd "
   ]
  },
  {
   "cell_type": "code",
   "execution_count": 10,
   "id": "51cb960a",
   "metadata": {},
   "outputs": [],
   "source": [
    "DRIVER_NAME = 'SQL SERVER'\n",
    "SERVER_NAME = 'DESKTOP-CTUU9K5\\SQLEXPRESS'\n",
    "DATABASE_NAME = 'AdventureWorks2019'"
   ]
  },
  {
   "cell_type": "code",
   "execution_count": 11,
   "id": "cdbf7ccf",
   "metadata": {},
   "outputs": [],
   "source": [
    "#uid=<username>;\n",
    "#pwd=<password>;\n",
    "connection_string = f\"\"\"\n",
    "    DRIVER={{{DRIVER_NAME}}};\n",
    "    SERVER={SERVER_NAME};\n",
    "    DATABASE={DATABASE_NAME};\n",
    "    Trust_Connection=yes;\n",
    "\"\"\""
   ]
  },
  {
   "cell_type": "code",
   "execution_count": 12,
   "id": "bdfbc6a3",
   "metadata": {},
   "outputs": [
    {
     "name": "stdout",
     "output_type": "stream",
     "text": [
      "<pypyodbc.Connection object at 0x0000025337A937F0>\n"
     ]
    }
   ],
   "source": [
    "conn = odbc.connect(connection_string)\n",
    "print(conn)"
   ]
  },
  {
   "cell_type": "code",
   "execution_count": 13,
   "id": "326d9356",
   "metadata": {},
   "outputs": [],
   "source": [
    "filepath = r\"C:\\Users\\12408\\Documents\\SQL Server Management Studio\\multildata.xlsx\"\n",
    "\n",
    "writer=pd.ExcelWriter(filepath, engine='xlsxwriter')\n",
    "#writer=pd.csvWriter(filepath, engine='csvwriter')"
   ]
  },
  {
   "cell_type": "code",
   "execution_count": 6,
   "id": "c42b48ea",
   "metadata": {},
   "outputs": [
    {
     "name": "stdout",
     "output_type": "stream",
     "text": [
      "      businessentityid persontype  namestyle title firstname middlename  \\\n",
      "0                    5         EM      False   Ms.      Gail          A   \n",
      "1                    7         EM      False  None     Dylan          A   \n",
      "2                   19         EM      False  None      Mary          A   \n",
      "3                   24         EM      False   Ms.      Jill          A   \n",
      "4                   27         EM      False  None        Jo          A   \n",
      "...                ...        ...        ...   ...       ...        ...   \n",
      "1314             20726         IN      False  None    Morgan          A   \n",
      "1315             20737         IN      False  None   Crystal          A   \n",
      "1316             20742         IN      False  None    Morgan          A   \n",
      "1317             20751         IN      False  None   Crystal          A   \n",
      "1318             20764         IN      False  None   Crystal          A   \n",
      "\n",
      "       lastname suffix  emailpromotion additionalcontactinfo  \\\n",
      "0      Erickson   None               0                  None   \n",
      "1        Miller   None               2                  None   \n",
      "2       Dempsey   None               1                  None   \n",
      "3      Williams   None               0                  None   \n",
      "4         Brown   None               0                  None   \n",
      "...         ...    ...             ...                   ...   \n",
      "1314     Powell   None               0                  None   \n",
      "1315      Zhang   None               0                  None   \n",
      "1316  Alexander   None               2                  None   \n",
      "1317       Yang   None               0                  None   \n",
      "1318         Lu   None               1                  None   \n",
      "\n",
      "                                           demographics  \\\n",
      "0     <IndividualSurvey xmlns=\"http://schemas.micros...   \n",
      "1     <IndividualSurvey xmlns=\"http://schemas.micros...   \n",
      "2     <IndividualSurvey xmlns=\"http://schemas.micros...   \n",
      "3     <IndividualSurvey xmlns=\"http://schemas.micros...   \n",
      "4     <IndividualSurvey xmlns=\"http://schemas.micros...   \n",
      "...                                                 ...   \n",
      "1314  <IndividualSurvey xmlns=\"http://schemas.micros...   \n",
      "1315  <IndividualSurvey xmlns=\"http://schemas.micros...   \n",
      "1316  <IndividualSurvey xmlns=\"http://schemas.micros...   \n",
      "1317  <IndividualSurvey xmlns=\"http://schemas.micros...   \n",
      "1318  <IndividualSurvey xmlns=\"http://schemas.micros...   \n",
      "\n",
      "                                      rowguid modifieddate  \n",
      "0     b'F3A3F6B4-AE3B-430C-A754-9F2231BA6FEF'   2007-12-30  \n",
      "1     b'C45E8AB8-01BE-4B76-B215-820C8368181A'   2009-02-01  \n",
      "2     b'36F04305-6769-4E61-9143-048B2B7AFA20'   2011-02-07  \n",
      "3     b'3F605060-96AD-4201-9BE2-BFE7A3C4E468'   2009-01-11  \n",
      "4     b'EDD8ADD6-F7FD-4086-BFDC-B4FD3E6AD8D7'   2008-02-20  \n",
      "...                                       ...          ...  \n",
      "1314  b'731948C4-F40B-49BB-B07F-BFE0A48A8052'   2012-12-12  \n",
      "1315  b'CBD497C2-0C8E-4802-8414-E0C3715CB469'   2014-03-04  \n",
      "1316  b'3A66D865-359E-43F3-B6A2-178E0DBF8908'   2014-03-08  \n",
      "1317  b'5DD45523-9CB6-49B8-9FB4-80D454711B45'   2013-02-06  \n",
      "1318  b'96C71454-F8B7-4FBE-A4A7-E1BC9C59B21C'   2013-03-01  \n",
      "\n",
      "[1319 rows x 13 columns]\n"
     ]
    }
   ],
   "source": [
    "df=pd.read_sql(\"select * from Person.person where Middlename='A'\", conn)\n",
    "print(df)"
   ]
  },
  {
   "cell_type": "code",
   "execution_count": 14,
   "id": "aaf179cb",
   "metadata": {},
   "outputs": [
    {
     "data": {
      "text/html": [
       "<div>\n",
       "<style scoped>\n",
       "    .dataframe tbody tr th:only-of-type {\n",
       "        vertical-align: middle;\n",
       "    }\n",
       "\n",
       "    .dataframe tbody tr th {\n",
       "        vertical-align: top;\n",
       "    }\n",
       "\n",
       "    .dataframe thead th {\n",
       "        text-align: right;\n",
       "    }\n",
       "</style>\n",
       "<table border=\"1\" class=\"dataframe\">\n",
       "  <thead>\n",
       "    <tr style=\"text-align: right;\">\n",
       "      <th></th>\n",
       "      <th>businessentityid</th>\n",
       "      <th>persontype</th>\n",
       "      <th>namestyle</th>\n",
       "      <th>title</th>\n",
       "      <th>firstname</th>\n",
       "      <th>middlename</th>\n",
       "      <th>lastname</th>\n",
       "      <th>suffix</th>\n",
       "      <th>emailpromotion</th>\n",
       "      <th>additionalcontactinfo</th>\n",
       "      <th>demographics</th>\n",
       "      <th>rowguid</th>\n",
       "      <th>modifieddate</th>\n",
       "    </tr>\n",
       "  </thead>\n",
       "  <tbody>\n",
       "    <tr>\n",
       "      <th>0</th>\n",
       "      <td>5</td>\n",
       "      <td>EM</td>\n",
       "      <td>False</td>\n",
       "      <td>Ms.</td>\n",
       "      <td>Gail</td>\n",
       "      <td>A</td>\n",
       "      <td>Erickson</td>\n",
       "      <td>None</td>\n",
       "      <td>0</td>\n",
       "      <td>None</td>\n",
       "      <td>&lt;IndividualSurvey xmlns=\"http://schemas.micros...</td>\n",
       "      <td>b'F3A3F6B4-AE3B-430C-A754-9F2231BA6FEF'</td>\n",
       "      <td>2007-12-30</td>\n",
       "    </tr>\n",
       "    <tr>\n",
       "      <th>1</th>\n",
       "      <td>7</td>\n",
       "      <td>EM</td>\n",
       "      <td>False</td>\n",
       "      <td>None</td>\n",
       "      <td>Dylan</td>\n",
       "      <td>A</td>\n",
       "      <td>Miller</td>\n",
       "      <td>None</td>\n",
       "      <td>2</td>\n",
       "      <td>None</td>\n",
       "      <td>&lt;IndividualSurvey xmlns=\"http://schemas.micros...</td>\n",
       "      <td>b'C45E8AB8-01BE-4B76-B215-820C8368181A'</td>\n",
       "      <td>2009-02-01</td>\n",
       "    </tr>\n",
       "    <tr>\n",
       "      <th>2</th>\n",
       "      <td>19</td>\n",
       "      <td>EM</td>\n",
       "      <td>False</td>\n",
       "      <td>None</td>\n",
       "      <td>Mary</td>\n",
       "      <td>A</td>\n",
       "      <td>Dempsey</td>\n",
       "      <td>None</td>\n",
       "      <td>1</td>\n",
       "      <td>None</td>\n",
       "      <td>&lt;IndividualSurvey xmlns=\"http://schemas.micros...</td>\n",
       "      <td>b'36F04305-6769-4E61-9143-048B2B7AFA20'</td>\n",
       "      <td>2011-02-07</td>\n",
       "    </tr>\n",
       "    <tr>\n",
       "      <th>3</th>\n",
       "      <td>24</td>\n",
       "      <td>EM</td>\n",
       "      <td>False</td>\n",
       "      <td>Ms.</td>\n",
       "      <td>Jill</td>\n",
       "      <td>A</td>\n",
       "      <td>Williams</td>\n",
       "      <td>None</td>\n",
       "      <td>0</td>\n",
       "      <td>None</td>\n",
       "      <td>&lt;IndividualSurvey xmlns=\"http://schemas.micros...</td>\n",
       "      <td>b'3F605060-96AD-4201-9BE2-BFE7A3C4E468'</td>\n",
       "      <td>2009-01-11</td>\n",
       "    </tr>\n",
       "    <tr>\n",
       "      <th>4</th>\n",
       "      <td>27</td>\n",
       "      <td>EM</td>\n",
       "      <td>False</td>\n",
       "      <td>None</td>\n",
       "      <td>Jo</td>\n",
       "      <td>A</td>\n",
       "      <td>Brown</td>\n",
       "      <td>None</td>\n",
       "      <td>0</td>\n",
       "      <td>None</td>\n",
       "      <td>&lt;IndividualSurvey xmlns=\"http://schemas.micros...</td>\n",
       "      <td>b'EDD8ADD6-F7FD-4086-BFDC-B4FD3E6AD8D7'</td>\n",
       "      <td>2008-02-20</td>\n",
       "    </tr>\n",
       "  </tbody>\n",
       "</table>\n",
       "</div>"
      ],
      "text/plain": [
       "   businessentityid persontype  namestyle title firstname middlename  \\\n",
       "0                 5         EM      False   Ms.      Gail          A   \n",
       "1                 7         EM      False  None     Dylan          A   \n",
       "2                19         EM      False  None      Mary          A   \n",
       "3                24         EM      False   Ms.      Jill          A   \n",
       "4                27         EM      False  None        Jo          A   \n",
       "\n",
       "   lastname suffix  emailpromotion additionalcontactinfo  \\\n",
       "0  Erickson   None               0                  None   \n",
       "1    Miller   None               2                  None   \n",
       "2   Dempsey   None               1                  None   \n",
       "3  Williams   None               0                  None   \n",
       "4     Brown   None               0                  None   \n",
       "\n",
       "                                        demographics  \\\n",
       "0  <IndividualSurvey xmlns=\"http://schemas.micros...   \n",
       "1  <IndividualSurvey xmlns=\"http://schemas.micros...   \n",
       "2  <IndividualSurvey xmlns=\"http://schemas.micros...   \n",
       "3  <IndividualSurvey xmlns=\"http://schemas.micros...   \n",
       "4  <IndividualSurvey xmlns=\"http://schemas.micros...   \n",
       "\n",
       "                                   rowguid modifieddate  \n",
       "0  b'F3A3F6B4-AE3B-430C-A754-9F2231BA6FEF'   2007-12-30  \n",
       "1  b'C45E8AB8-01BE-4B76-B215-820C8368181A'   2009-02-01  \n",
       "2  b'36F04305-6769-4E61-9143-048B2B7AFA20'   2011-02-07  \n",
       "3  b'3F605060-96AD-4201-9BE2-BFE7A3C4E468'   2009-01-11  \n",
       "4  b'EDD8ADD6-F7FD-4086-BFDC-B4FD3E6AD8D7'   2008-02-20  "
      ]
     },
     "execution_count": 14,
     "metadata": {},
     "output_type": "execute_result"
    }
   ],
   "source": [
    "df.head()"
   ]
  },
  {
   "cell_type": "code",
   "execution_count": 7,
   "id": "ec7e970d",
   "metadata": {},
   "outputs": [
    {
     "ename": "AttributeError",
     "evalue": "'str' object has no attribute 'cursor'",
     "output_type": "error",
     "traceback": [
      "\u001b[1;31m---------------------------------------------------------------------------\u001b[0m",
      "\u001b[1;31mAttributeError\u001b[0m                            Traceback (most recent call last)",
      "\u001b[1;32m<ipython-input-7-e42bb469a03a>\u001b[0m in \u001b[0;36m<module>\u001b[1;34m\u001b[0m\n\u001b[0;32m      1\u001b[0m \u001b[1;31m#Sample select query\u001b[0m\u001b[1;33m\u001b[0m\u001b[1;33m\u001b[0m\u001b[1;33m\u001b[0m\u001b[0m\n\u001b[1;32m----> 2\u001b[1;33m \u001b[0mcursor\u001b[0m \u001b[1;33m=\u001b[0m \u001b[0mconnection_string\u001b[0m\u001b[1;33m.\u001b[0m\u001b[0mcursor\u001b[0m\u001b[1;33m(\u001b[0m\u001b[1;33m)\u001b[0m\u001b[1;33m\u001b[0m\u001b[1;33m\u001b[0m\u001b[0m\n\u001b[0m\u001b[0;32m      3\u001b[0m \u001b[0mcursor\u001b[0m\u001b[1;33m.\u001b[0m\u001b[0mexecute\u001b[0m\u001b[1;33m(\u001b[0m\u001b[1;34m\"SELECT @@version;\"\u001b[0m\u001b[1;33m)\u001b[0m\u001b[1;33m\u001b[0m\u001b[1;33m\u001b[0m\u001b[0m\n\u001b[0;32m      4\u001b[0m \u001b[0mrow\u001b[0m \u001b[1;33m=\u001b[0m \u001b[0mcursor\u001b[0m\u001b[1;33m.\u001b[0m\u001b[0mfetchone\u001b[0m\u001b[1;33m(\u001b[0m\u001b[1;33m)\u001b[0m\u001b[1;33m\u001b[0m\u001b[1;33m\u001b[0m\u001b[0m\n\u001b[0;32m      5\u001b[0m \u001b[1;32mwhile\u001b[0m \u001b[0mrow\u001b[0m\u001b[1;33m:\u001b[0m\u001b[1;33m\u001b[0m\u001b[1;33m\u001b[0m\u001b[0m\n",
      "\u001b[1;31mAttributeError\u001b[0m: 'str' object has no attribute 'cursor'"
     ]
    }
   ],
   "source": [
    "#Sample select query\n",
    "cursor = connection_string.cursor()\n",
    "cursor.execute(\"SELECT @@version;\")\n",
    "row = cursor.fetchone()\n",
    "while row:\n",
    "    print(row[0])\n",
    "    row = cursor.fetchone()"
   ]
  },
  {
   "cell_type": "code",
   "execution_count": null,
   "id": "892821dc",
   "metadata": {},
   "outputs": [],
   "source": [
    "cursor = connection.cursor()"
   ]
  }
 ],
 "metadata": {
  "kernelspec": {
   "display_name": "Python 3 (ipykernel)",
   "language": "python",
   "name": "python3"
  },
  "language_info": {
   "codemirror_mode": {
    "name": "ipython",
    "version": 3
   },
   "file_extension": ".py",
   "mimetype": "text/x-python",
   "name": "python",
   "nbconvert_exporter": "python",
   "pygments_lexer": "ipython3",
   "version": "3.8.19"
  }
 },
 "nbformat": 4,
 "nbformat_minor": 5
}
